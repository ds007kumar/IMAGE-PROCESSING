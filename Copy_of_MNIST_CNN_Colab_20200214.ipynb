{
  "nbformat": 4,
  "nbformat_minor": 0,
  "metadata": {
    "accelerator": "TPU",
    "colab": {
      "name": "Copy of MNIST_CNN_Colab-20200214.ipynb",
      "provenance": [],
      "collapsed_sections": [],
      "toc_visible": true,
      "include_colab_link": true
    },
    "kernelspec": {
      "name": "python3",
      "display_name": "Python 3"
    },
    "language_info": {
      "codemirror_mode": {
        "name": "ipython",
        "version": 3
      },
      "file_extension": ".py",
      "mimetype": "text/x-python",
      "name": "python",
      "nbconvert_exporter": "python",
      "pygments_lexer": "ipython3",
      "version": "3.7.6"
    }
  },
  "cells": [
    {
      "cell_type": "markdown",
      "metadata": {
        "id": "view-in-github",
        "colab_type": "text"
      },
      "source": [
        "<a href=\"https://colab.research.google.com/github/ds007kumar/IMAGE-PROCESSING/blob/master/Copy_of_MNIST_CNN_Colab_20200214.ipynb\" target=\"_parent\"><img src=\"https://colab.research.google.com/assets/colab-badge.svg\" alt=\"Open In Colab\"/></a>"
      ]
    },
    {
      "cell_type": "markdown",
      "metadata": {
        "colab_type": "text",
        "id": "LxjUOqbicMOa"
      },
      "source": [
        "<h1>MNIST Classification using CNNs</h1>\n",
        "\n",
        "---\n",
        "\n"
      ]
    },
    {
      "cell_type": "markdown",
      "metadata": {
        "colab_type": "text",
        "id": "GTQlTR2Scks4"
      },
      "source": [
        "# Importing Keras Modules\n"
      ]
    },
    {
      "cell_type": "code",
      "metadata": {
        "colab_type": "code",
        "id": "1ve46hnH315r",
        "outputId": "e4459268-c734-45cb-dd90-ab8bf238fd47",
        "colab": {
          "base_uri": "https://localhost:8080/",
          "height": 98
        }
      },
      "source": [
        "#Importing important modules\n",
        "import keras\n",
        "from keras.datasets import mnist\n",
        "from keras.models import Sequential\n",
        "from keras.layers import Dense, Dropout, Flatten\n",
        "from keras.layers import Conv2D, MaxPooling2D\n",
        "from keras.callbacks import ModelCheckpoint, EarlyStopping\n",
        "#Installing Tensorboard for Colab\n",
        "!pip install tensorboardcolab"
      ],
      "execution_count": 1,
      "outputs": [
        {
          "output_type": "stream",
          "text": [
            "Using TensorFlow backend.\n"
          ],
          "name": "stderr"
        },
        {
          "output_type": "display_data",
          "data": {
            "text/html": [
              "<p style=\"color: red;\">\n",
              "The default version of TensorFlow in Colab will soon switch to TensorFlow 2.x.<br>\n",
              "We recommend you <a href=\"https://www.tensorflow.org/guide/migrate\" target=\"_blank\">upgrade</a> now \n",
              "or ensure your notebook will continue to use TensorFlow 1.x via the <code>%tensorflow_version 1.x</code> magic:\n",
              "<a href=\"https://colab.research.google.com/notebooks/tensorflow_version.ipynb\" target=\"_blank\">more info</a>.</p>\n"
            ],
            "text/plain": [
              "<IPython.core.display.HTML object>"
            ]
          },
          "metadata": {
            "tags": []
          }
        },
        {
          "output_type": "stream",
          "text": [
            "Requirement already satisfied: tensorboardcolab in /usr/local/lib/python3.6/dist-packages (0.0.22)\n"
          ],
          "name": "stdout"
        }
      ]
    },
    {
      "cell_type": "code",
      "metadata": {
        "colab_type": "code",
        "id": "2CXExv3r_jtA",
        "outputId": "dc7601bd-3f08-4fda-a5a4-c917ac93f771",
        "colab": {
          "base_uri": "https://localhost:8080/",
          "height": 125
        }
      },
      "source": [
        "from google.colab import drive\n",
        "drive.mount('/content/drive')"
      ],
      "execution_count": 2,
      "outputs": [
        {
          "output_type": "stream",
          "text": [
            "Go to this URL in a browser: https://accounts.google.com/o/oauth2/auth?client_id=947318989803-6bn6qk8qdgf4n4g3pfee6491hc0brc4i.apps.googleusercontent.com&redirect_uri=urn%3aietf%3awg%3aoauth%3a2.0%3aoob&response_type=code&scope=email%20https%3a%2f%2fwww.googleapis.com%2fauth%2fdocs.test%20https%3a%2f%2fwww.googleapis.com%2fauth%2fdrive%20https%3a%2f%2fwww.googleapis.com%2fauth%2fdrive.photos.readonly%20https%3a%2f%2fwww.googleapis.com%2fauth%2fpeopleapi.readonly\n",
            "\n",
            "Enter your authorization code:\n",
            "··········\n",
            "Mounted at /content/drive\n"
          ],
          "name": "stdout"
        }
      ]
    },
    {
      "cell_type": "markdown",
      "metadata": {
        "colab_type": "text",
        "id": "OKVkkLaLdPGU"
      },
      "source": [
        "# Loading the Dataset"
      ]
    },
    {
      "cell_type": "markdown",
      "metadata": {
        "colab_type": "text",
        "id": "JK0ZRJoxhrFe"
      },
      "source": [
        "<h3>Download train and test sets of  MNIST dataset</h3>"
      ]
    },
    {
      "cell_type": "code",
      "metadata": {
        "colab_type": "code",
        "id": "Jv3nQR9L4WE2",
        "colab": {
          "base_uri": "https://localhost:8080/",
          "height": 52
        },
        "outputId": "e3f309f0-57b8-46a7-a394-be7cd4ca3133"
      },
      "source": [
        "# the data, split between train and test sets\n",
        "(x_train, y_train), (x_test, y_test) = mnist.load_data()"
      ],
      "execution_count": 3,
      "outputs": [
        {
          "output_type": "stream",
          "text": [
            "Downloading data from https://s3.amazonaws.com/img-datasets/mnist.npz\n",
            "11493376/11490434 [==============================] - 0s 0us/step\n"
          ],
          "name": "stdout"
        }
      ]
    },
    {
      "cell_type": "markdown",
      "metadata": {
        "colab_type": "text",
        "id": "PEcVz-OotHWM"
      },
      "source": [
        "<h4>Visualizing the dataset</h4>"
      ]
    },
    {
      "cell_type": "code",
      "metadata": {
        "colab_type": "code",
        "id": "dqpGua7ZqUdV",
        "outputId": "2da61de9-4e00-4a39-93fe-d5a2540a5f37",
        "colab": {
          "base_uri": "https://localhost:8080/",
          "height": 486
        }
      },
      "source": [
        "%matplotlib inline\n",
        "\n",
        "# As we test first 100 test examples, So as you know this subplot essentialy takes the number of rows and number of columns\n",
        "#...counter...so counter goes to 1...100, \n",
        "import matplotlib.pyplot as plt\n",
        "w=10\n",
        "h=10\n",
        "fig=plt.figure(figsize=(8, 8))\n",
        "columns = 10\n",
        "rows = 10\n",
        "for i in range(1, columns*rows +1):\n",
        "    img = x_test[i]\n",
        "    fig.add_subplot(rows, columns, i)\n",
        "    plt.imshow(img, cmap='gray')\n",
        "plt.show()"
      ],
      "execution_count": 5,
      "outputs": [
        {
          "output_type": "display_data",
          "data": {
            "image/png": "[encoded data removed]",
            "text/plain": [
              "<Figure size 576x576 with 100 Axes>"
            ]
          },
          "metadata": {
            "tags": []
          }
        }
      ]
    },
    {
      "cell_type": "code",
      "metadata": {
        "id": "6mAI3_RfxKCq",
        "colab_type": "code",
        "colab": {
          "base_uri": "https://localhost:8080/",
          "height": 105
        },
        "outputId": "3d6f78ea-02cf-45d7-ea44-5e167cf76963"
      },
      "source": [
        "y_test[0:100]\n",
        "\n",
        "# now lets print first test 100 test lables ..1st label is 7 and second label 2 100 ....we now know our data check out and "
      ],
      "execution_count": 6,
      "outputs": [
        {
          "output_type": "execute_result",
          "data": {
            "text/plain": [
              "array([7, 2, 1, 0, 4, 1, 4, 9, 5, 9, 0, 6, 9, 0, 1, 5, 9, 7, 3, 4, 9, 6,\n",
              "       6, 5, 4, 0, 7, 4, 0, 1, 3, 1, 3, 4, 7, 2, 7, 1, 2, 1, 1, 7, 4, 2,\n",
              "       3, 5, 1, 2, 4, 4, 6, 3, 5, 5, 6, 0, 4, 1, 9, 5, 7, 8, 9, 3, 7, 4,\n",
              "       6, 4, 3, 0, 7, 0, 2, 9, 1, 7, 3, 2, 9, 7, 7, 6, 2, 7, 8, 4, 7, 3,\n",
              "       6, 1, 3, 6, 9, 3, 1, 4, 1, 7, 6, 9], dtype=uint8)"
            ]
          },
          "metadata": {
            "tags": []
          },
          "execution_count": 6
        }
      ]
    },
    {
      "cell_type": "code",
      "metadata": {
        "id": "0cjzzy2wxJ3m",
        "colab_type": "code",
        "colab": {}
      },
      "source": [
        ""
      ],
      "execution_count": 0,
      "outputs": []
    },
    {
      "cell_type": "markdown",
      "metadata": {
        "colab_type": "text",
        "id": "0D29eowNhmU8"
      },
      "source": [
        "<h3>Reshape train and test sets into shapes compatible with keras models</h3>\n",
        "\n",
        "<h4>Keras expects data to be in the format (N_E.N_H,N_W,N_C)  N_E = Number of Examples, N_H = height, N_W = Width, N_C = Number of Channels.</h4>\n"
      ]
    },
    {
      "cell_type": "code",
      "metadata": {
        "id": "nt-YKYY-xusR",
        "colab_type": "code",
        "colab": {
          "base_uri": "https://localhost:8080/",
          "height": 34
        },
        "outputId": "f5328369-96c3-46d5-aa9f-0c5d7126eda8"
      },
      "source": [
        "# we want to reshape our data such that Keras Likes it.\n",
        "# lets print the shape of our data how does it look like.\n",
        "\n",
        "x_train.shape"
      ],
      "execution_count": 9,
      "outputs": [
        {
          "output_type": "execute_result",
          "data": {
            "text/plain": [
              "(60000, 28, 28, 1)"
            ]
          },
          "metadata": {
            "tags": []
          },
          "execution_count": 9
        }
      ]
    },
    {
      "cell_type": "markdown",
      "metadata": {
        "id": "HdY6_ahEx9ck",
        "colab_type": "text"
      },
      "source": [
        "Keras we also need to give qa number of channel though it is 1 but it need on extra dimension we reshaping the training and test set, 60000,28,28,1 and in test datasets 10000,28,28,1\n",
        "\n",
        "Chaneel =2.... we add one more dimesinon height -H width -=w \n"
      ]
    },
    {
      "cell_type": "code",
      "metadata": {
        "id": "nqL9_uRsx8O7",
        "colab_type": "code",
        "colab": {
          "base_uri": "https://localhost:8080/",
          "height": 34
        },
        "outputId": "dac45210-99fe-465a-a8ec-fb3f3aae4813"
      },
      "source": [
        "x_test.shape"
      ],
      "execution_count": 11,
      "outputs": [
        {
          "output_type": "execute_result",
          "data": {
            "text/plain": [
              "(10000, 28, 28, 1)"
            ]
          },
          "metadata": {
            "tags": []
          },
          "execution_count": 11
        }
      ]
    },
    {
      "cell_type": "code",
      "metadata": {
        "id": "p4FK05MMy7uw",
        "colab_type": "code",
        "colab": {
          "base_uri": "https://localhost:8080/",
          "height": 34
        },
        "outputId": "5a851fb2-1389-4d85-ae61-47e7c4348bd9"
      },
      "source": [
        "x_train.max()"
      ],
      "execution_count": 14,
      "outputs": [
        {
          "output_type": "execute_result",
          "data": {
            "text/plain": [
              "255"
            ]
          },
          "metadata": {
            "tags": []
          },
          "execution_count": 14
        }
      ]
    },
    {
      "cell_type": "code",
      "metadata": {
        "colab_type": "code",
        "id": "KYCYajiwdozQ",
        "colab": {}
      },
      "source": [
        "# input image dimensions....\n",
        "img_rows, img_cols = 28, 28\n",
        "\n",
        "#Keras expects data to be in the format (N_E.N_H,N_W,N_C)\n",
        "#N_E = Number of Examples, N_H = height, N_W = Width, N_C = Number of Channels.\n",
        "x_train = x_train.reshape(x_train.shape[0], img_rows, img_cols, 1)\n",
        "x_test = x_test.reshape(x_test.shape[0], img_rows, img_cols, 1)\n",
        "input_shape = (img_rows, img_cols, 1)"
      ],
      "execution_count": 0,
      "outputs": []
    },
    {
      "cell_type": "markdown",
      "metadata": {
        "colab_type": "text",
        "id": "kMGQuoyNiqmL"
      },
      "source": [
        "<h3>Pre-processing the dataset</h3>\n",
        "<h4>Normalizing the input</h4>\n",
        "\n",
        "\n",
        "Some Minmal Preporcessing \n",
        "First we want to convert our training and test sets in to float\n"
      ]
    },
    {
      "cell_type": "code",
      "metadata": {
        "colab_type": "code",
        "id": "M1kXqqfV4d_b",
        "outputId": "180319dd-5316-4102-d16b-66b48e65f750",
        "colab": {
          "base_uri": "https://localhost:8080/",
          "height": 68
        }
      },
      "source": [
        "x_train = x_train.astype('float32')\n",
        "x_test = x_test.astype('float32')\n",
        "\n",
        "#Normalizing the input\n",
        "x_train /= 255.0\n",
        "x_test /= 255.0\n",
        "print('x_train shape:', x_train.shape)\n",
        "print(x_train.shape[0], 'train samples')\n",
        "print(x_test.shape[0], 'test samples')"
      ],
      "execution_count": 0,
      "outputs": [
        {
          "output_type": "stream",
          "text": [
            "('x_train shape:', (60000, 28, 28, 1))\n",
            "(60000, 'train samples')\n",
            "(10000, 'test samples')\n"
          ],
          "name": "stdout"
        }
      ]
    },
    {
      "cell_type": "code",
      "metadata": {
        "id": "iQ8P-W7kzAow",
        "colab_type": "code",
        "colab": {
          "base_uri": "https://localhost:8080/",
          "height": 34
        },
        "outputId": "7cf5b278-ff08-465c-f57e-94051d58e330"
      },
      "source": [
        "# Now we again check x-train.max\n",
        "\n",
        "x_train.max()"
      ],
      "execution_count": 15,
      "outputs": [
        {
          "output_type": "execute_result",
          "data": {
            "text/plain": [
              "255"
            ]
          },
          "metadata": {
            "tags": []
          },
          "execution_count": 15
        }
      ]
    },
    {
      "cell_type": "code",
      "metadata": {
        "colab_type": "code",
        "id": "nlJ0ogZ4dG3G",
        "colab": {}
      },
      "source": [
        "batch_size = 128\n",
        "num_classes = 10\n",
        "epochs = 12"
      ],
      "execution_count": 0,
      "outputs": []
    },
    {
      "cell_type": "code",
      "metadata": {
        "colab_type": "code",
        "id": "qX8CdMUs5qvO",
        "outputId": "62429312-d04b-46c9-c4d6-ece02da86821",
        "colab": {
          "base_uri": "https://localhost:8080/",
          "height": 34
        }
      },
      "source": [
        "print(y_train[0])"
      ],
      "execution_count": 16,
      "outputs": [
        {
          "output_type": "stream",
          "text": [
            "5\n"
          ],
          "name": "stdout"
        }
      ]
    },
    {
      "cell_type": "code",
      "metadata": {
        "id": "gwhQuVTQzcBk",
        "colab_type": "code",
        "colab": {
          "base_uri": "https://localhost:8080/",
          "height": 34
        },
        "outputId": "35a797ba-1888-465b-cb1a-c470d8be0e6f"
      },
      "source": [
        "y_train.shape"
      ],
      "execution_count": 17,
      "outputs": [
        {
          "output_type": "execute_result",
          "data": {
            "text/plain": [
              "(60000,)"
            ]
          },
          "metadata": {
            "tags": []
          },
          "execution_count": 17
        }
      ]
    },
    {
      "cell_type": "markdown",
      "metadata": {
        "id": "9gWsnDDjzjLO",
        "colab_type": "text"
      },
      "source": [
        "The Shape is Now 60000, 1D so we do the hot encoding"
      ]
    },
    {
      "cell_type": "markdown",
      "metadata": {
        "colab_type": "text",
        "id": "N8TE7MoZi_w7"
      },
      "source": [
        "<h4>Convert Labels from digits to one hot vectors</h4>\n",
        "\n",
        "We convert Digits to one hot encoder as you know "
      ]
    },
    {
      "cell_type": "code",
      "metadata": {
        "colab_type": "code",
        "id": "cqh-cVtT4ijU",
        "colab": {}
      },
      "source": [
        "# convert class vectors to binary class matrices\n",
        "y_train = keras.utils.to_categorical(y_train, num_classes)\n",
        "y_test = keras.utils.to_categorical(y_test, num_classes)"
      ],
      "execution_count": 0,
      "outputs": []
    },
    {
      "cell_type": "markdown",
      "metadata": {
        "id": "EoezJnL40LXs",
        "colab_type": "text"
      },
      "source": [
        "Now after Doing hot encoding Shape in 2D ....(60,000,10)\n",
        "Now it becomes ONE HOT VECTOR\n"
      ]
    },
    {
      "cell_type": "markdown",
      "metadata": {
        "id": "F8LGvah90LPr",
        "colab_type": "text"
      },
      "source": [
        ""
      ]
    },
    {
      "cell_type": "code",
      "metadata": {
        "id": "UtY0gAZYz0zx",
        "colab_type": "code",
        "colab": {
          "base_uri": "https://localhost:8080/",
          "height": 34
        },
        "outputId": "2addc61b-26c8-4fb8-b862-71a81add1c9e"
      },
      "source": [
        "y_train.shape"
      ],
      "execution_count": 22,
      "outputs": [
        {
          "output_type": "execute_result",
          "data": {
            "text/plain": [
              "(60000, 10)"
            ]
          },
          "metadata": {
            "tags": []
          },
          "execution_count": 22
        }
      ]
    },
    {
      "cell_type": "code",
      "metadata": {
        "colab_type": "code",
        "id": "yMfUrCYO5VeA",
        "outputId": "a279b4b1-f3a9-43d7-addc-556506bb21d8",
        "colab": {
          "base_uri": "https://localhost:8080/",
          "height": 34
        }
      },
      "source": [
        "print(y_train[0])\n",
        "\n",
        "### It has become ONE HOT  Vector ."
      ],
      "execution_count": 23,
      "outputs": [
        {
          "output_type": "stream",
          "text": [
            "[0. 0. 0. 0. 0. 1. 0. 0. 0. 0.]\n"
          ],
          "name": "stdout"
        }
      ]
    },
    {
      "cell_type": "markdown",
      "metadata": {
        "colab_type": "text",
        "id": "QV4R9IbjjOVT"
      },
      "source": [
        "# Building the CNN \n",
        "\n",
        "<h4>Define the layers of model</h4>"
      ]
    },
    {
      "cell_type": "code",
      "metadata": {
        "colab_type": "code",
        "id": "7sse4G5d4lpY",
        "colab": {
          "base_uri": "https://localhost:8080/",
          "height": 266
        },
        "outputId": "b6843816-3d9b-4800-9155-1e214e6e4f19"
      },
      "source": [
        "#Initialize the model: Model is a container so in COntainer we our fisrt convolution module with 32 Filter of size 3*3 and activation relu\n",
        "model = Sequential()\n",
        "\n",
        "#Add a Convolutional Layer with 32 filters of size 3X3 and activation function as 'ReLU' \n",
        "model.add(Conv2D(32, kernel_size=(3, 3),\n",
        "                 activation='relu',\n",
        "                 input_shape=input_shape))\n",
        "\n",
        "#Add a Convolutional Layer with 64 filters of size 3X3 and activation function as 'ReLU' \n",
        "model.add(Conv2D(64, (3, 3), activation='relu'))\n",
        "\n",
        "#Add a MaxPooling Layer of size 2X2 \n",
        "model.add(MaxPooling2D(pool_size=(2, 2)))\n",
        "\n",
        "#Apply Dropout with 0.25 probability \n",
        "model.add(Dropout(0.25))\n",
        "\n",
        "#Flatten the layer\n",
        "model.add(Flatten())\n",
        "\n",
        "#Add Fully Connected Layer with 128 units and activation function as 'ReLU'\n",
        "model.add(Dense(128, activation='relu'))\n",
        "\n",
        "#Apply Dropout with 0.5 probability \n",
        "model.add(Dropout(0.5))\n",
        "\n",
        "#Add Fully Connected Layer with 10 units and activation function as 'softmax'\n",
        "model.add(Dense(num_classes, activation='softmax'))"
      ],
      "execution_count": 24,
      "outputs": [
        {
          "output_type": "stream",
          "text": [
            "WARNING:tensorflow:From /usr/local/lib/python3.6/dist-packages/keras/backend/tensorflow_backend.py:66: The name tf.get_default_graph is deprecated. Please use tf.compat.v1.get_default_graph instead.\n",
            "\n",
            "WARNING:tensorflow:From /usr/local/lib/python3.6/dist-packages/keras/backend/tensorflow_backend.py:541: The name tf.placeholder is deprecated. Please use tf.compat.v1.placeholder instead.\n",
            "\n",
            "WARNING:tensorflow:From /usr/local/lib/python3.6/dist-packages/keras/backend/tensorflow_backend.py:4432: The name tf.random_uniform is deprecated. Please use tf.random.uniform instead.\n",
            "\n",
            "WARNING:tensorflow:From /usr/local/lib/python3.6/dist-packages/keras/backend/tensorflow_backend.py:4267: The name tf.nn.max_pool is deprecated. Please use tf.nn.max_pool2d instead.\n",
            "\n",
            "WARNING:tensorflow:From /usr/local/lib/python3.6/dist-packages/keras/backend/tensorflow_backend.py:148: The name tf.placeholder_with_default is deprecated. Please use tf.compat.v1.placeholder_with_default instead.\n",
            "\n",
            "WARNING:tensorflow:From /usr/local/lib/python3.6/dist-packages/keras/backend/tensorflow_backend.py:3733: calling dropout (from tensorflow.python.ops.nn_ops) with keep_prob is deprecated and will be removed in a future version.\n",
            "Instructions for updating:\n",
            "Please use `rate` instead of `keep_prob`. Rate should be set to `rate = 1 - keep_prob`.\n"
          ],
          "name": "stdout"
        }
      ]
    },
    {
      "cell_type": "code",
      "metadata": {
        "id": "v4gHZz9q20Km",
        "colab_type": "code",
        "colab": {
          "base_uri": "https://localhost:8080/",
          "height": 34
        },
        "outputId": "ca67eb3d-9291-47dd-e470-774d890e86cd"
      },
      "source": [
        "import os\n",
        "#### Add your code here ####\n",
        "os.getcwd()\n",
        "os.chdir(\"/content/drive/My Drive/CVV/\")\n",
        "os.getcwd()"
      ],
      "execution_count": 27,
      "outputs": [
        {
          "output_type": "execute_result",
          "data": {
            "text/plain": [
              "'/content/drive/My Drive/CVV'"
            ]
          },
          "metadata": {
            "tags": []
          },
          "execution_count": 27
        }
      ]
    },
    {
      "cell_type": "code",
      "metadata": {
        "id": "vzmizyyU1SW4",
        "colab_type": "code",
        "colab": {
          "base_uri": "https://localhost:8080/",
          "height": 70
        },
        "outputId": "5ac08333-188e-4abb-81b8-4e55c1e805bf"
      },
      "source": [
        "import skimage.io as io # Image Input Output from Skimage\n",
        "import matplotlib.pyplot as plt # For Plotting Function\n",
        "import numpy as np # Numpy Array\n",
        "# Read the image CONVOULUTION LAYERS ILLUSTRATION\n",
        "img = io.imread('CONVO_ILLUST.jpg')\n",
        "from PIL import Image # importing image module \n",
        "\n",
        "# open image using open function if image and python not in same directory then take care of path of image\n",
        "img = Image.open('CONVO_ILLUST.jpg') \n",
        "\n",
        "print(img.format) # display image format like jpeg,png etc\n",
        "print(img.mode) # display image mode like RGB etc.\n",
        "print(img.size) # display image size width and height\n",
        "\n",
        "img.show() #showing image "
      ],
      "execution_count": 35,
      "outputs": [
        {
          "output_type": "stream",
          "text": [
            "JPEG\n",
            "RGB\n",
            "(1920, 1080)\n"
          ],
          "name": "stdout"
        }
      ]
    },
    {
      "cell_type": "markdown",
      "metadata": {
        "colab_type": "text",
        "id": "iDYmge-AlJTX"
      },
      "source": [
        "<h4>Setting Optimizer and Loss function for training</h4>"
      ]
    },
    {
      "cell_type": "code",
      "metadata": {
        "colab_type": "code",
        "id": "W-y6cZaL4p6R",
        "colab": {}
      },
      "source": [
        "from keras.optimizers import Adam\n",
        "from keras.losses import categorical_crossentropy\n",
        "\n",
        "#To use adam optimizer for learning weights with learning rate = 0.001\n",
        "optimizer = Adam(lr=0.001)\n",
        "#Set the loss function and optimizer for the model training\n",
        "model.compile(loss=categorical_crossentropy,\n",
        "              optimizer=optimizer,\n",
        "              metrics=['accuracy'])"
      ],
      "execution_count": 0,
      "outputs": []
    },
    {
      "cell_type": "markdown",
      "metadata": {
        "colab_type": "text",
        "id": "wVHOojpJlvVa"
      },
      "source": [
        "# Training the CNN "
      ]
    },
    {
      "cell_type": "markdown",
      "metadata": {
        "colab_type": "text",
        "id": "PF0yBjA0jkm-"
      },
      "source": [
        "<h4>Initializing the Tensorboard callback for visualization of training</h4>"
      ]
    },
    {
      "cell_type": "code",
      "metadata": {
        "colab_type": "code",
        "id": "fCysYIM2I-6f",
        "outputId": "b909d6b9-ba5a-42fa-95ae-c7f7a90eda32",
        "colab": {
          "base_uri": "https://localhost:8080/",
          "height": 68
        }
      },
      "source": [
        "#Import tensorboardcolab modules for creating a tensorboard call back which will passed in model.fit function.\n",
        "from tensorboardcolab import TensorBoardColab, TensorBoardColabCallback\n",
        "\n",
        "#Tensorboard callback is going to be added to model.fit function to draw graphs of loss values after every epoch\n",
        "tbc = TensorBoardColab()\n"
      ],
      "execution_count": 0,
      "outputs": [
        {
          "output_type": "stream",
          "text": [
            "Wait for 8 seconds...\n",
            "TensorBoard link:\n",
            "https://94692489.ngrok.io\n"
          ],
          "name": "stdout"
        }
      ]
    },
    {
      "cell_type": "markdown",
      "metadata": {
        "colab_type": "text",
        "id": "Oe1YtBzrmCaL"
      },
      "source": [
        "<h4>Initializing Early stopping and Model chekpoint callbacks </h4>"
      ]
    },
    {
      "cell_type": "code",
      "metadata": {
        "colab_type": "code",
        "id": "WJ3u9GaFl-Xl",
        "colab": {}
      },
      "source": [
        "#Adding Early stopping callback to the fit function is going to stop the training,\n",
        "#if the val_loss is not going to change even '0.001' for more than 10 continous epochs\n",
        "\n",
        "early_stopping = EarlyStopping(monitor='val_loss', min_delta=0.001, patience=10)\n",
        "\n",
        "#Adding Model Checkpoint callback to the fit function is going to save the weights whenever val_loss achieves a new low value. \n",
        "#Hence saving the best weights occurred during training\n",
        "\n",
        "model_checkpoint =  ModelCheckpoint('mnist_cnn_checkpoint_{epoch:02d}_loss{val_loss:.4f}.h5',\n",
        "                                                           monitor='val_loss',\n",
        "                                                           verbose=1,\n",
        "                                                           save_best_only=True,\n",
        "                                                           save_weights_only=True,\n",
        "                                                           mode='auto',\n",
        "                                                           period=1)"
      ],
      "execution_count": 0,
      "outputs": []
    },
    {
      "cell_type": "markdown",
      "metadata": {
        "colab_type": "text",
        "id": "wJIhBhbDmZ8U"
      },
      "source": [
        "<h4>Fit the model to the dataset</h4>"
      ]
    },
    {
      "cell_type": "code",
      "metadata": {
        "colab_type": "code",
        "id": "QDBvTM2B4smP",
        "outputId": "cda97ef5-4241-4d1c-dc7a-01b874564e5f",
        "colab": {
          "base_uri": "https://localhost:8080/",
          "height": 887
        }
      },
      "source": [
        "#Training on the dataset and adding the all the callbacks to the fit function.\n",
        "#Once the training starts, results start appearing on Tensorboard after 1 epoch\n",
        "model.fit(x_train, y_train,\n",
        "          batch_size=batch_size,\n",
        "          epochs=epochs,\n",
        "          verbose=1,\n",
        "          validation_data=(x_test, y_test),\n",
        "          callbacks=[TensorBoardColabCallback(tbc),early_stopping,model_checkpoint])"
      ],
      "execution_count": 0,
      "outputs": [
        {
          "output_type": "stream",
          "text": [
            "Train on 60000 samples, validate on 10000 samples\n",
            "Epoch 1/12\n",
            "60000/60000 [==============================] - 10s 169us/step - loss: 0.2346 - acc: 0.9290 - val_loss: 0.0452 - val_acc: 0.9853\n",
            "\n",
            "Epoch 00001: val_loss improved from inf to 0.04516, saving model to mnist_cnn_checkpoint_01_loss0.0452.h5\n",
            "Epoch 2/12\n",
            "60000/60000 [==============================] - 9s 149us/step - loss: 0.0845 - acc: 0.9747 - val_loss: 0.0387 - val_acc: 0.9864\n",
            "\n",
            "Epoch 00002: val_loss improved from 0.04516 to 0.03871, saving model to mnist_cnn_checkpoint_02_loss0.0387.h5\n",
            "Epoch 3/12\n",
            "60000/60000 [==============================] - 9s 149us/step - loss: 0.0626 - acc: 0.9813 - val_loss: 0.0345 - val_acc: 0.9878\n",
            "\n",
            "Epoch 00003: val_loss improved from 0.03871 to 0.03452, saving model to mnist_cnn_checkpoint_03_loss0.0345.h5\n",
            "Epoch 4/12\n",
            "60000/60000 [==============================] - 9s 149us/step - loss: 0.0504 - acc: 0.9847 - val_loss: 0.0280 - val_acc: 0.9903\n",
            "\n",
            "Epoch 00004: val_loss improved from 0.03452 to 0.02800, saving model to mnist_cnn_checkpoint_04_loss0.0280.h5\n",
            "Epoch 5/12\n",
            "60000/60000 [==============================] - 9s 149us/step - loss: 0.0428 - acc: 0.9868 - val_loss: 0.0293 - val_acc: 0.9905\n",
            "\n",
            "Epoch 00005: val_loss did not improve from 0.02800\n",
            "Epoch 6/12\n",
            "60000/60000 [==============================] - 9s 151us/step - loss: 0.0391 - acc: 0.9877 - val_loss: 0.0278 - val_acc: 0.9905\n",
            "\n",
            "Epoch 00006: val_loss improved from 0.02800 to 0.02781, saving model to mnist_cnn_checkpoint_06_loss0.0278.h5\n",
            "Epoch 7/12\n",
            "60000/60000 [==============================] - 9s 151us/step - loss: 0.0345 - acc: 0.9890 - val_loss: 0.0273 - val_acc: 0.9911\n",
            "\n",
            "Epoch 00007: val_loss improved from 0.02781 to 0.02733, saving model to mnist_cnn_checkpoint_07_loss0.0273.h5\n",
            "Epoch 8/12\n",
            "60000/60000 [==============================] - 9s 149us/step - loss: 0.0328 - acc: 0.9897 - val_loss: 0.0269 - val_acc: 0.9919\n",
            "\n",
            "Epoch 00008: val_loss improved from 0.02733 to 0.02689, saving model to mnist_cnn_checkpoint_08_loss0.0269.h5\n",
            "Epoch 9/12\n",
            "60000/60000 [==============================] - 9s 149us/step - loss: 0.0278 - acc: 0.9911 - val_loss: 0.0275 - val_acc: 0.9917\n",
            "\n",
            "Epoch 00009: val_loss did not improve from 0.02689\n",
            "Epoch 10/12\n",
            "60000/60000 [==============================] - 9s 150us/step - loss: 0.0258 - acc: 0.9917 - val_loss: 0.0300 - val_acc: 0.9913\n",
            "\n",
            "Epoch 00010: val_loss did not improve from 0.02689\n",
            "Epoch 11/12\n",
            "60000/60000 [==============================] - 9s 149us/step - loss: 0.0263 - acc: 0.9915 - val_loss: 0.0301 - val_acc: 0.9906\n",
            "\n",
            "Epoch 00011: val_loss did not improve from 0.02689\n",
            "Epoch 12/12\n",
            "60000/60000 [==============================] - 9s 149us/step - loss: 0.0221 - acc: 0.9924 - val_loss: 0.0239 - val_acc: 0.9929\n",
            "\n",
            "Epoch 00012: val_loss improved from 0.02689 to 0.02393, saving model to mnist_cnn_checkpoint_12_loss0.0239.h5\n"
          ],
          "name": "stdout"
        },
        {
          "output_type": "execute_result",
          "data": {
            "text/plain": [
              "<keras.callbacks.History at 0x7f27a37b6850>"
            ]
          },
          "metadata": {
            "tags": []
          },
          "execution_count": 15
        }
      ]
    },
    {
      "cell_type": "markdown",
      "metadata": {
        "colab_type": "text",
        "id": "U3WWyAm_me96"
      },
      "source": [
        "# Evaluating the CNN"
      ]
    },
    {
      "cell_type": "markdown",
      "metadata": {
        "colab_type": "text",
        "id": "_DnRZGxSmi5C"
      },
      "source": [
        "<h4>Evaluate trained model on the test set</h4>"
      ]
    },
    {
      "cell_type": "code",
      "metadata": {
        "colab_type": "code",
        "id": "q4oZhZm34v_R",
        "outputId": "74e82d7f-4191-45e4-de73-433549384b4b",
        "colab": {
          "base_uri": "https://localhost:8080/",
          "height": 68
        }
      },
      "source": [
        "#Testing the model on test set\n",
        "score = model.evaluate(x_test, y_test)\n",
        "print('Test loss:', score[0])\n",
        "print('Test accuracy:', score[1])"
      ],
      "execution_count": 0,
      "outputs": [
        {
          "output_type": "stream",
          "text": [
            "10000/10000 [==============================] - 1s 108us/step\n",
            "('Test loss:', 0.023927093083013096)\n",
            "('Test accuracy:', 0.9929)\n"
          ],
          "name": "stdout"
        }
      ]
    },
    {
      "cell_type": "markdown",
      "metadata": {
        "colab_type": "text",
        "id": "tWuDdzf0rgf-"
      },
      "source": [
        "<h4>Visualizing some predictions</h4>"
      ]
    },
    {
      "cell_type": "code",
      "metadata": {
        "colab_type": "code",
        "id": "fiT52J2Gqk2D",
        "outputId": "6f643780-1cc0-49a2-843e-b509a3cd4451",
        "colab": {
          "base_uri": "https://localhost:8080/",
          "height": 812
        }
      },
      "source": [
        "import numpy as np\n",
        "\n",
        "plt.figure(figsize=(2,2))\n",
        "plt.imshow(x_test[3].reshape(28,28),cmap=\"gray\")\n",
        "plt.show()\n",
        "print(np.argmax(model.predict(x_test[3].reshape(1,28,28,1))))\n",
        "\n",
        "\n",
        "plt.figure(figsize=(2,2))\n",
        "plt.imshow(x_test[2].reshape(28,28),cmap=\"gray\")\n",
        "plt.show()\n",
        "print(np.argmax(model.predict(x_test[2].reshape(1,28,28,1))))\n",
        "\n",
        "\n",
        "plt.figure(figsize=(2,2))\n",
        "plt.imshow(x_test[33].reshape(28,28),cmap=\"gray\")\n",
        "plt.show()\n",
        "print(np.argmax(model.predict(x_test[33].reshape(1,28,28,1))))\n",
        "\n",
        "\n",
        "plt.figure(figsize=(2,2))\n",
        "plt.imshow(x_test[59].reshape(28,28),cmap=\"gray\")\n",
        "plt.show()\n",
        "print(np.argmax(model.predict(x_test[59].reshape(1,28,28,1))))\n",
        "\n",
        "\n",
        "plt.figure(figsize=(2,2))\n",
        "plt.imshow(x_test[36].reshape(28,28),cmap=\"gray\")\n",
        "plt.show()\n",
        "print(np.argmax(model.predict(x_test[36].reshape(1,28,28,1))))"
      ],
      "execution_count": 0,
      "outputs": [
        {
          "output_type": "display_data",
          "data": {
            "image/png": "[encoded data removed]",
            "text/plain": [
              "<matplotlib.figure.Figure at 0x7f2794849710>"
            ]
          },
          "metadata": {
            "tags": []
          }
        },
        {
          "output_type": "stream",
          "text": [
            "0\n"
          ],
          "name": "stdout"
        },
        {
          "output_type": "display_data",
          "data": {
            "image/png": "[encoded data removed]",
            "text/plain": [
              "<matplotlib.figure.Figure at 0x7f27948681d0>"
            ]
          },
          "metadata": {
            "tags": []
          }
        },
        {
          "output_type": "stream",
          "text": [
            "1\n"
          ],
          "name": "stdout"
        },
        {
          "output_type": "display_data",
          "data": {
            "image/png": "[encoded data removed]",
            "text/plain": [
              "<matplotlib.figure.Figure at 0x7f2794a01290>"
            ]
          },
          "metadata": {
            "tags": []
          }
        },
        {
          "output_type": "stream",
          "text": [
            "4\n"
          ],
          "name": "stdout"
        },
        {
          "output_type": "display_data",
          "data": {
            "image/png": "[encoded data removed]",
            "text/plain": [
              "<matplotlib.figure.Figure at 0x7f2794815650>"
            ]
          },
          "metadata": {
            "tags": []
          }
        },
        {
          "output_type": "stream",
          "text": [
            "5\n"
          ],
          "name": "stdout"
        },
        {
          "output_type": "display_data",
          "data": {
            "image/png": "[encoded data removed]",
            "text/plain": [
              "<matplotlib.figure.Figure at 0x7f2793fd71d0>"
            ]
          },
          "metadata": {
            "tags": []
          }
        },
        {
          "output_type": "stream",
          "text": [
            "7\n"
          ],
          "name": "stdout"
        }
      ]
    },
    {
      "cell_type": "markdown",
      "metadata": {
        "colab_type": "text",
        "id": "Fvl0nK6pmsmt"
      },
      "source": [
        "# Saving the CNN"
      ]
    },
    {
      "cell_type": "markdown",
      "metadata": {
        "colab_type": "text",
        "id": "xM4Ram-pmyPd"
      },
      "source": [
        "<h4>Save the trained weights and model in h5 files</h4>"
      ]
    },
    {
      "cell_type": "code",
      "metadata": {
        "colab_type": "code",
        "id": "fhTA0qnm85kH",
        "colab": {}
      },
      "source": [
        "#Set the path where you want to store the model and weights. \n",
        "model.save('./cnn_mnist.h5')\n",
        "model.save_weights('./cnn_mnist_weights.h5')"
      ],
      "execution_count": 0,
      "outputs": []
    },
    {
      "cell_type": "code",
      "metadata": {
        "colab_type": "code",
        "id": "aGpE3xXGxnJP",
        "colab": {}
      },
      "source": [
        ""
      ],
      "execution_count": 0,
      "outputs": []
    }
  ]
}